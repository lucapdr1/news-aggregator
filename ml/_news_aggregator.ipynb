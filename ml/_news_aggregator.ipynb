{
 "cells": [
  {
   "cell_type": "markdown",
   "metadata": {},
   "source": [
    "# News Aggregator\n",
    "\n",
    "## Features\n",
    "- **Top Articles Retrieval**: Scrapes top articles from predefined news sources.\n",
    "- **Article Summarization**: Summarizes articles to provide concise representations.\n",
    "- **sentiment Detection**: Determines the sentiment of articles based on sentiment analysis.\n"
   ]
  },
  {
   "cell_type": "code",
   "execution_count": 1,
   "metadata": {},
   "outputs": [],
   "source": [
    "import newspaper\n",
    "import json\n",
    "\n",
    "newspaper_list = [ 'https://time.com/',\n",
    "        'https://www.theguardian.com/europe',\n",
    "        'https://edition.cnn.com/' ]"
   ]
  },
  {
   "cell_type": "markdown",
   "metadata": {},
   "source": [
    "### Top Articles Retrieval\n",
    "The script scrapes the top articles from predefined news sources listed in the `newspaper_list`. It utilizes the `newspaper` library to build newspaper objects from these URLs. The `get_top_articles` function takes a newspaper URL and retrieves a specified number of top articles (default is 5) from it. It then extracts relevant information from each article, including its title, publication date, text content, and URL. This feature enables the aggregation of recent articles from multiple news sources."
   ]
  },
  {
   "cell_type": "code",
   "execution_count": 9,
   "metadata": {},
   "outputs": [
    {
     "name": "stdout",
     "output_type": "stream",
     "text": [
      "{'newspaper': 'https://www.theguardian.com/europe', 'title': 'More tax cuts, fewer green policies: key takeaways from the Tories’ manifesto', 'date': '2024-06-11', 'text': '1. Tax cuts, again\\n\\nThe overriding theme of the manifesto and the launch – and, indeed, of the whole Tory campaign – has been an attempt to contrast promised tax cuts with the idea, however contested, of Labour tax rises.\\n\\nThe manifesto thus produced the mini-surprise of a pledge to abolish national insurance contributions (NICs) for self-employed people, plus the briefed-out plan to cut 2p more from NICs for employed workers, and the slightly vaguer promise to eventually phase out NICs “when it is affordable to do so”.\\n\\nWhile there were other pre-billed cuts, for example to stamp duty and a higher threshold for child benefits, there was nothing on inheritance tax, as sought by some Tory MPs.\\n\\n2. No rabbit, no hat\\n\\nWhile one Tory spinner made the reasonable point that the purpose of a manifesto is not simply to surprise journalists, many of Sunak’s MPs might have been hoping for something bold, something that could grab attention, or even better shift the polling dial.\\n\\nWhether or not that was a realistic hope, the only half-surprises came with NICs, plus a few details such as the expanded housing target of 1.6m new homes being built in the next parliament, and a revised version of the help to buy scheme.\\n\\nMany of the main policy offerings, however, had been well trailed in advance, for example the pledge to boost defence spending to 2.5% of GDP, the plan for a new form of national service for young people and a statutory cap on migration numbers.\\n\\nOne absence was any new policy, or even new language, on the UK potentially leaving the European convention on human rights, another ask from rightwing Tories.\\n\\n3. A populist blueprint\\n\\nSome rightwing Tories might view the manifesto as cautious and limp, but the signs of Sunak and his ministers trying to head off the threat from Nigel Farage and Reform UK are obvious throughout the document.\\n\\nThe bulk of the section on net zero is aimed at watering down or caveating green plans, with a pledge to impose no new environmental levies or a frequent flyer tax. Another part of the manifesto promises to clamp down even harder on protests.\\n\\nThere is also a long section outlining the party’s proposals on gender identity, which at just over 400 words is four times as long as the entire section on social care. The term “poverty” gets only one mention, in relation to international aid.\\n\\n4. Policy re-treads\\n\\nWhen it came to pending legislation, the Conservatives appeared as surprised as anyone that they had just called an election, and several policies personally linked to Sunak failed to make it, including a gradual ban on tobacco and a crackdown on vape sales, plus making maths study mandatory to 18.\\n\\nOthers fallen bills would be resurrected, such as the long-delayed plan to ban no-fault evictions from residential properties, and reform of the leasehold system.\\n\\nThose return in the manifesto as does, obviously, the Rwanda deportation plan, with a promise to begin a “regular rhythm of flights every month, starting this July” – even if Sunak declined to say how many asylum seekers would be deported.\\n\\n5. But not everything makes it\\n\\nOne long-held Tory idea that has not been revived is the ban on so-called conversion therapies. While saying they are “abhorrent”, the manifesto adds: “But legislation around conversion practices is a very complex issue, with existing criminal law already offering robust protections.”', 'url': 'https://www.theguardian.com/politics/article/2024/jun/11/more-tax-cuts-fewer-green-policies-key-takeaways-from-the-tories-manifesto'}\n"
     ]
    }
   ],
   "source": [
    "def get_top_articles(newspaper_url, num_articles=5):\n",
    "    paper = newspaper.build(newspaper_url,number_threads=3)\n",
    "    top_articles = []\n",
    "\n",
    "    article_urls = [article.url for article in paper.articles[:num_articles]]\n",
    "\n",
    "    for article in paper.articles[:num_articles]:\n",
    "        article.download()\n",
    "        article.parse()\n",
    "        top_articles.append(article)\n",
    "        article.url\n",
    "    \n",
    "    return zip(article_urls, top_articles)\n",
    "\n",
    "articles_info = []\n",
    "\n",
    "for news_url in newspaper_list:\n",
    "    top_articles = get_top_articles(news_url, num_articles=5)\n",
    "  \n",
    "    # Display article titles\n",
    "    for url, article in top_articles:\n",
    "        single_info = {\n",
    "            \"newspaper\": str(news_url),\n",
    "            \"title\": article.title,\n",
    "            \"date\": article.publish_date.strftime('%Y-%m-%d') if article.publish_date else None,\n",
    "            \"text\" : article.text,\n",
    "            \"url\": str(url)\n",
    "        }\n",
    "        articles_info.append(single_info)\n",
    "\n",
    "# Convert the list to a JSON object\n",
    "articles_json = json.dumps(articles_info)\n",
    "\n",
    "# Print the JSON object of the first one to show it is correctly structured\n",
    "print(articles_info[0])"
   ]
  },
  {
   "cell_type": "markdown",
   "metadata": {},
   "source": [
    "### Article Summarization\n",
    "For article summarization, the script employs the `summarize` function. This function takes an article URL as input and utilizes the `newspaper` library to download, parse, and perform natural language processing (NLP) on the article. By leveraging NLP, it generates a summary of the article's content. This summary provides a condensed representation of the article's main points, making it easier for users to grasp the essential information without having to read the entire article."
   ]
  },
  {
   "cell_type": "code",
   "execution_count": 11,
   "metadata": {},
   "outputs": [
    {
     "data": {
      "text/plain": [
       "'Tax cuts, again The overriding theme of the manifesto and the launch – and, indeed, of the whole Tory campaign – has been an attempt to contrast promised tax cuts with the idea, however contested, of Labour tax rises.\\nWhile there were other pre-billed cuts, for example to stamp duty and a higher threshold for child benefits, there was nothing on inheritance tax, as sought by some Tory MPs.\\nOthers fallen bills would be resurrected, such as the long-delayed plan to ban no-fault evictions from residential properties, and reform of the leasehold system.\\nBut not everything makes it One long-held Tory idea that has not been revived is the ban on so-called conversion therapies.\\nWhile saying they are “abhorrent”, the manifesto adds: “But legislation around conversion practices is a very complex issue, with existing criminal law already offering robust protections.”'"
      ]
     },
     "execution_count": 11,
     "metadata": {},
     "output_type": "execute_result"
    }
   ],
   "source": [
    "def summarize(article_url):\n",
    "    article = newspaper.article(article_url)\n",
    "    article.download()\n",
    "    article.parse()\n",
    "    article.nlp()\n",
    "    return article.summary\n",
    "\n",
    "#Example usage\n",
    "\n",
    "summarize(articles_info[0]['url'])"
   ]
  },
  {
   "cell_type": "markdown",
   "metadata": {},
   "source": [
    "### Sentiment Detection\n",
    "The script includes a `detect_sentiment` function that determines the political bias of articles based on sentiment analysis. It utilizes the `transformers` library to load a sentiment analysis model pretrained on English text. The sentiment analysis model assigns a sentiment score to the text, indicating the overall sentiment (positive, negative, or neutral). Based on this score, the function categorizes the article's political bias as 'left-leaning,' 'right-leaning,' or 'neutral.'"
   ]
  },
  {
   "cell_type": "code",
   "execution_count": 12,
   "metadata": {},
   "outputs": [
    {
     "data": {
      "text/plain": [
       "'positive'"
      ]
     },
     "execution_count": 12,
     "metadata": {},
     "output_type": "execute_result"
    }
   ],
   "source": [
    "from transformers import pipeline\n",
    "\n",
    "def detect_sentiment(text):\n",
    "    # Load sentiment analysis model with explicit model and revision\n",
    "    sentiment_model = pipeline(\"sentiment-analysis\", model=\"distilbert-base-uncased-finetuned-sst-2-english\", revision=\"af0f99b\")\n",
    "\n",
    "    # Perform sentiment analysis on the text\n",
    "    sentiment = sentiment_model(text)\n",
    "\n",
    "    # Based on sentiment score, determine sentiment\n",
    "    sentiment_score = sentiment[0]['score']\n",
    "    if sentiment_score >= 0.6:\n",
    "        return 'positive'\n",
    "    elif sentiment_score <= 0.4:\n",
    "        return 'negative'\n",
    "    else:\n",
    "        return 'neutral'\n",
    "    \n",
    "detect_sentiment(articles_info[0]['text'][:511])"
   ]
  },
  {
   "cell_type": "code",
   "execution_count": null,
   "metadata": {},
   "outputs": [],
   "source": []
  }
 ],
 "metadata": {
  "kernelspec": {
   "display_name": "dw",
   "language": "python",
   "name": "python3"
  },
  "language_info": {
   "codemirror_mode": {
    "name": "ipython",
    "version": 3
   },
   "file_extension": ".py",
   "mimetype": "text/x-python",
   "name": "python",
   "nbconvert_exporter": "python",
   "pygments_lexer": "ipython3",
   "version": "3.9.19"
  }
 },
 "nbformat": 4,
 "nbformat_minor": 2
}
